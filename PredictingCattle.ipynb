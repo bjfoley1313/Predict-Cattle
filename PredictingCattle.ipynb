{
 "cells": [
  {
   "cell_type": "code",
   "execution_count": 2223,
   "metadata": {
    "collapsed": false
   },
   "outputs": [],
   "source": [
    "import numpy as np\n",
    "import pandas as pd\n",
    "import Quandl\n",
    "from datetime import datetime\n",
    "from pandas import DataFrame\n",
    "%matplotlib inline\n",
    "import matplotlib.pyplot as plt\n",
    "import random\n",
    "from sklearn.model_selection import GridSearchCV\n",
    "from sklearn.metrics import accuracy_score, f1_score\n",
    "from sklearn.linear_model import LogisticRegression\n",
    "from sklearn.neighbors import KNeighborsClassifier\n",
    "from sklearn.naive_bayes import GaussianNB\n",
    "from sklearn.svm import SVC\n",
    "from sklearn.ensemble import RandomForestClassifier"
   ]
  },
  {
   "cell_type": "code",
   "execution_count": 2224,
   "metadata": {
    "collapsed": false
   },
   "outputs": [],
   "source": [
    "#call data from Quandl to create continuous time series of spot cattle prices\n",
    "Z07 = Quandl.get(\"CME/LCZ2007\", trim_start=\"2007-04-01\", trim_end=\"2007-09-30\",\n",
    "                   authtoken=\"V59QDSuBq4zt1ofAQxRv\")\n",
    "M08 = Quandl.get(\"CME/LCM2008\", trim_start=\"2007-10-01\", trim_end=\"2008-03-31\",\n",
    "                   authtoken=\"V59QDSuBq4zt1ofAQxRv\")\n",
    "Z08 = Quandl.get(\"CME/LCZ2008\", trim_start=\"2008-04-01\", trim_end=\"2008-09-30\",\n",
    "                   authtoken=\"V59QDSuBq4zt1ofAQxRv\")\n",
    "M09 = Quandl.get(\"CME/LCM2009\", trim_start=\"2008-10-01\", trim_end=\"2009-03-31\",\n",
    "                   authtoken=\"V59QDSuBq4zt1ofAQxRv\")\n",
    "Z09 = Quandl.get(\"CME/LCZ2009\", trim_start=\"2009-04-01\", trim_end=\"2009-09-30\",\n",
    "                   authtoken=\"V59QDSuBq4zt1ofAQxRv\")\n",
    "M10 = Quandl.get(\"CME/LCM2010\", trim_start=\"2009-10-01\", trim_end=\"2010-03-31\",\n",
    "                   authtoken=\"V59QDSuBq4zt1ofAQxRv\")\n",
    "Z10 = Quandl.get(\"CME/LCZ2010\", trim_start=\"2010-04-01\", trim_end=\"2010-09-30\",\n",
    "                   authtoken=\"V59QDSuBq4zt1ofAQxRv\")\n",
    "M11 = Quandl.get(\"CME/LCM2011\", trim_start=\"2010-10-01\", trim_end=\"2011-03-31\",\n",
    "                   authtoken=\"V59QDSuBq4zt1ofAQxRv\")\n",
    "Z11 = Quandl.get(\"CME/LCZ2011\", trim_start=\"2011-04-01\", trim_end=\"2011-09-30\",\n",
    "                   authtoken=\"V59QDSuBq4zt1ofAQxRv\")\n",
    "M12 = Quandl.get(\"CME/LCM2012\", trim_start=\"2011-10-01\", trim_end=\"2012-03-31\",\n",
    "                   authtoken=\"V59QDSuBq4zt1ofAQxRv\")\n",
    "Z12 = Quandl.get(\"CME/LCZ2012\", trim_start=\"2012-04-01\", trim_end=\"2012-09-30\",\n",
    "                   authtoken=\"V59QDSuBq4zt1ofAQxRv\")\n",
    "M13 = Quandl.get(\"CME/LCM2013\", trim_start=\"2012-10-01\", trim_end=\"2013-03-31\",\n",
    "                   authtoken=\"V59QDSuBq4zt1ofAQxRv\")\n",
    "Z13 = Quandl.get(\"CME/LCZ2013\", trim_start=\"2013-04-01\", trim_end=\"2013-09-30\",\n",
    "                   authtoken=\"V59QDSuBq4zt1ofAQxRv\")\n",
    "M14 = Quandl.get(\"CME/LCM2014\", trim_start=\"2013-10-01\", trim_end=\"2014-03-31\",\n",
    "                   authtoken=\"V59QDSuBq4zt1ofAQxRv\")\n",
    "Z14 = Quandl.get(\"CME/LCZ2014\", trim_start=\"2014-04-01\", trim_end=\"2014-09-30\",\n",
    "                   authtoken=\"V59QDSuBq4zt1ofAQxRv\")\n",
    "M15 = Quandl.get(\"CME/LCM2015\", trim_start=\"2014-10-01\", trim_end=\"2015-03-31\",\n",
    "                   authtoken=\"V59QDSuBq4zt1ofAQxRv\")\n",
    "Z15 = Quandl.get(\"CME/LCZ2015\", trim_start=\"2015-04-01\", trim_end=\"2015-09-30\",\n",
    "                   authtoken=\"V59QDSuBq4zt1ofAQxRv\")\n",
    "M16 = Quandl.get(\"CME/LCM2016\", trim_start=\"2015-10-01\", trim_end=\"2016-03-31\",\n",
    "                   authtoken=\"V59QDSuBq4zt1ofAQxRv\")\n",
    "Z16 = Quandl.get(\"CME/LCZ2016\", trim_start=\"2016-04-01\", trim_end=\"2016-09-30\",\n",
    "                   authtoken=\"V59QDSuBq4zt1ofAQxRv\")\n",
    "M17 = Quandl.get(\"CME/LCM2017\", trim_start=\"2016-10-01\", trim_end=\"2017-03-31\",\n",
    "                   authtoken=\"V59QDSuBq4zt1ofAQxRv\")"
   ]
  },
  {
   "cell_type": "code",
   "execution_count": 2225,
   "metadata": {
    "collapsed": false
   },
   "outputs": [],
   "source": [
    "frames = [Z07, M08, Z08, M09, Z09, M10, Z10, M11, Z11, M12, Z12, M13, Z13, M14, Z14, M15, Z15, M16,\n",
    "       Z16, M17]\n",
    "cattle = pd.concat(frames)"
   ]
  },
  {
   "cell_type": "code",
   "execution_count": 2226,
   "metadata": {
    "collapsed": false
   },
   "outputs": [
    {
     "data": {
      "text/plain": [
       "(2506, 10)"
      ]
     },
     "execution_count": 2226,
     "metadata": {},
     "output_type": "execute_result"
    }
   ],
   "source": [
    "cattle.shape"
   ]
  },
  {
   "cell_type": "code",
   "execution_count": 2240,
   "metadata": {
    "collapsed": false
   },
   "outputs": [
    {
     "name": "stdout",
     "output_type": "stream",
     "text": [
      "<class 'pandas.core.frame.DataFrame'>\n",
      "DatetimeIndex: 2506 entries, 2007-04-02 to 2017-03-31\n",
      "Data columns (total 6 columns):\n",
      "Prev. Day Open Interest       1624 non-null float64\n",
      "Previous Day Open Interest    125 non-null float64\n",
      "Settle                        2506 non-null float64\n",
      "Volume                        2505 non-null float64\n",
      "A                             2505 non-null float64\n",
      "y                             2506 non-null int64\n",
      "dtypes: float64(5), int64(1)\n",
      "memory usage: 137.0 KB\n"
     ]
    }
   ],
   "source": [
    "cattle.info()"
   ]
  },
  {
   "cell_type": "code",
   "execution_count": 2227,
   "metadata": {
    "collapsed": false
   },
   "outputs": [
    {
     "data": {
      "text/html": [
       "<div>\n",
       "<style scoped>\n",
       "    .dataframe tbody tr th:only-of-type {\n",
       "        vertical-align: middle;\n",
       "    }\n",
       "\n",
       "    .dataframe tbody tr th {\n",
       "        vertical-align: top;\n",
       "    }\n",
       "\n",
       "    .dataframe thead th {\n",
       "        text-align: right;\n",
       "    }\n",
       "</style>\n",
       "<table border=\"1\" class=\"dataframe\">\n",
       "  <thead>\n",
       "    <tr style=\"text-align: right;\">\n",
       "      <th></th>\n",
       "      <th>Change</th>\n",
       "      <th>High</th>\n",
       "      <th>Last</th>\n",
       "      <th>Low</th>\n",
       "      <th>Open</th>\n",
       "      <th>Open Interest</th>\n",
       "      <th>Prev. Day Open Interest</th>\n",
       "      <th>Previous Day Open Interest</th>\n",
       "      <th>Settle</th>\n",
       "      <th>Volume</th>\n",
       "    </tr>\n",
       "    <tr>\n",
       "      <th>Date</th>\n",
       "      <th></th>\n",
       "      <th></th>\n",
       "      <th></th>\n",
       "      <th></th>\n",
       "      <th></th>\n",
       "      <th></th>\n",
       "      <th></th>\n",
       "      <th></th>\n",
       "      <th></th>\n",
       "      <th></th>\n",
       "    </tr>\n",
       "  </thead>\n",
       "  <tbody>\n",
       "    <tr>\n",
       "      <th>2007-04-02</th>\n",
       "      <td>NaN</td>\n",
       "      <td>97.1</td>\n",
       "      <td>NaN</td>\n",
       "      <td>96.250</td>\n",
       "      <td>96.57</td>\n",
       "      <td>NaN</td>\n",
       "      <td>14036.0</td>\n",
       "      <td>NaN</td>\n",
       "      <td>97.000</td>\n",
       "      <td>2188.0</td>\n",
       "    </tr>\n",
       "    <tr>\n",
       "      <th>2007-04-03</th>\n",
       "      <td>NaN</td>\n",
       "      <td>97.2</td>\n",
       "      <td>NaN</td>\n",
       "      <td>96.400</td>\n",
       "      <td>96.60</td>\n",
       "      <td>NaN</td>\n",
       "      <td>13355.0</td>\n",
       "      <td>NaN</td>\n",
       "      <td>97.150</td>\n",
       "      <td>1888.0</td>\n",
       "    </tr>\n",
       "    <tr>\n",
       "      <th>2007-04-04</th>\n",
       "      <td>NaN</td>\n",
       "      <td>97.6</td>\n",
       "      <td>NaN</td>\n",
       "      <td>96.650</td>\n",
       "      <td>96.90</td>\n",
       "      <td>NaN</td>\n",
       "      <td>13619.0</td>\n",
       "      <td>NaN</td>\n",
       "      <td>97.275</td>\n",
       "      <td>759.0</td>\n",
       "    </tr>\n",
       "    <tr>\n",
       "      <th>2007-04-05</th>\n",
       "      <td>NaN</td>\n",
       "      <td>98.0</td>\n",
       "      <td>NaN</td>\n",
       "      <td>97.500</td>\n",
       "      <td>97.50</td>\n",
       "      <td>NaN</td>\n",
       "      <td>13870.0</td>\n",
       "      <td>NaN</td>\n",
       "      <td>97.725</td>\n",
       "      <td>773.0</td>\n",
       "    </tr>\n",
       "    <tr>\n",
       "      <th>2007-04-09</th>\n",
       "      <td>NaN</td>\n",
       "      <td>97.8</td>\n",
       "      <td>NaN</td>\n",
       "      <td>97.175</td>\n",
       "      <td>97.60</td>\n",
       "      <td>NaN</td>\n",
       "      <td>14040.0</td>\n",
       "      <td>NaN</td>\n",
       "      <td>97.700</td>\n",
       "      <td>1018.0</td>\n",
       "    </tr>\n",
       "  </tbody>\n",
       "</table>\n",
       "</div>"
      ],
      "text/plain": [
       "            Change  High  Last     Low   Open  Open Interest  \\\n",
       "Date                                                           \n",
       "2007-04-02     NaN  97.1   NaN  96.250  96.57            NaN   \n",
       "2007-04-03     NaN  97.2   NaN  96.400  96.60            NaN   \n",
       "2007-04-04     NaN  97.6   NaN  96.650  96.90            NaN   \n",
       "2007-04-05     NaN  98.0   NaN  97.500  97.50            NaN   \n",
       "2007-04-09     NaN  97.8   NaN  97.175  97.60            NaN   \n",
       "\n",
       "            Prev. Day Open Interest  Previous Day Open Interest  Settle  \\\n",
       "Date                                                                      \n",
       "2007-04-02                  14036.0                         NaN  97.000   \n",
       "2007-04-03                  13355.0                         NaN  97.150   \n",
       "2007-04-04                  13619.0                         NaN  97.275   \n",
       "2007-04-05                  13870.0                         NaN  97.725   \n",
       "2007-04-09                  14040.0                         NaN  97.700   \n",
       "\n",
       "            Volume  \n",
       "Date                \n",
       "2007-04-02  2188.0  \n",
       "2007-04-03  1888.0  \n",
       "2007-04-04   759.0  \n",
       "2007-04-05   773.0  \n",
       "2007-04-09  1018.0  "
      ]
     },
     "execution_count": 2227,
     "metadata": {},
     "output_type": "execute_result"
    }
   ],
   "source": [
    "cattle.head()"
   ]
  },
  {
   "cell_type": "code",
   "execution_count": 2228,
   "metadata": {
    "collapsed": false
   },
   "outputs": [],
   "source": [
    "#drop features from dataframe that won't be included in analysis\n",
    "cattle = cattle.drop(['Open', 'High', 'Low', 'Last', 'Change', 'Open Interest'], axis=1)"
   ]
  },
  {
   "cell_type": "code",
   "execution_count": 2229,
   "metadata": {
    "collapsed": false,
    "scrolled": true
   },
   "outputs": [
    {
     "data": {
      "text/html": [
       "<div>\n",
       "<style scoped>\n",
       "    .dataframe tbody tr th:only-of-type {\n",
       "        vertical-align: middle;\n",
       "    }\n",
       "\n",
       "    .dataframe tbody tr th {\n",
       "        vertical-align: top;\n",
       "    }\n",
       "\n",
       "    .dataframe thead th {\n",
       "        text-align: right;\n",
       "    }\n",
       "</style>\n",
       "<table border=\"1\" class=\"dataframe\">\n",
       "  <thead>\n",
       "    <tr style=\"text-align: right;\">\n",
       "      <th></th>\n",
       "      <th>Prev. Day Open Interest</th>\n",
       "      <th>Previous Day Open Interest</th>\n",
       "      <th>Settle</th>\n",
       "      <th>Volume</th>\n",
       "    </tr>\n",
       "    <tr>\n",
       "      <th>Date</th>\n",
       "      <th></th>\n",
       "      <th></th>\n",
       "      <th></th>\n",
       "      <th></th>\n",
       "    </tr>\n",
       "  </thead>\n",
       "  <tbody>\n",
       "    <tr>\n",
       "      <th>2007-04-02</th>\n",
       "      <td>14036.0</td>\n",
       "      <td>NaN</td>\n",
       "      <td>97.000</td>\n",
       "      <td>2188.0</td>\n",
       "    </tr>\n",
       "    <tr>\n",
       "      <th>2007-04-03</th>\n",
       "      <td>13355.0</td>\n",
       "      <td>NaN</td>\n",
       "      <td>97.150</td>\n",
       "      <td>1888.0</td>\n",
       "    </tr>\n",
       "    <tr>\n",
       "      <th>2007-04-04</th>\n",
       "      <td>13619.0</td>\n",
       "      <td>NaN</td>\n",
       "      <td>97.275</td>\n",
       "      <td>759.0</td>\n",
       "    </tr>\n",
       "    <tr>\n",
       "      <th>2007-04-05</th>\n",
       "      <td>13870.0</td>\n",
       "      <td>NaN</td>\n",
       "      <td>97.725</td>\n",
       "      <td>773.0</td>\n",
       "    </tr>\n",
       "    <tr>\n",
       "      <th>2007-04-09</th>\n",
       "      <td>14040.0</td>\n",
       "      <td>NaN</td>\n",
       "      <td>97.700</td>\n",
       "      <td>1018.0</td>\n",
       "    </tr>\n",
       "  </tbody>\n",
       "</table>\n",
       "</div>"
      ],
      "text/plain": [
       "            Prev. Day Open Interest  Previous Day Open Interest  Settle  \\\n",
       "Date                                                                      \n",
       "2007-04-02                  14036.0                         NaN  97.000   \n",
       "2007-04-03                  13355.0                         NaN  97.150   \n",
       "2007-04-04                  13619.0                         NaN  97.275   \n",
       "2007-04-05                  13870.0                         NaN  97.725   \n",
       "2007-04-09                  14040.0                         NaN  97.700   \n",
       "\n",
       "            Volume  \n",
       "Date                \n",
       "2007-04-02  2188.0  \n",
       "2007-04-03  1888.0  \n",
       "2007-04-04   759.0  \n",
       "2007-04-05   773.0  \n",
       "2007-04-09  1018.0  "
      ]
     },
     "execution_count": 2229,
     "metadata": {},
     "output_type": "execute_result"
    }
   ],
   "source": [
    "cattle.head()"
   ]
  },
  {
   "cell_type": "code",
   "execution_count": 2230,
   "metadata": {
    "collapsed": true
   },
   "outputs": [],
   "source": [
    "cattle['A'] = cattle['Settle'][::]"
   ]
  },
  {
   "cell_type": "code",
   "execution_count": 2231,
   "metadata": {
    "collapsed": false
   },
   "outputs": [
    {
     "data": {
      "text/html": [
       "<div>\n",
       "<style scoped>\n",
       "    .dataframe tbody tr th:only-of-type {\n",
       "        vertical-align: middle;\n",
       "    }\n",
       "\n",
       "    .dataframe tbody tr th {\n",
       "        vertical-align: top;\n",
       "    }\n",
       "\n",
       "    .dataframe thead th {\n",
       "        text-align: right;\n",
       "    }\n",
       "</style>\n",
       "<table border=\"1\" class=\"dataframe\">\n",
       "  <thead>\n",
       "    <tr style=\"text-align: right;\">\n",
       "      <th></th>\n",
       "      <th>Prev. Day Open Interest</th>\n",
       "      <th>Previous Day Open Interest</th>\n",
       "      <th>Settle</th>\n",
       "      <th>Volume</th>\n",
       "      <th>A</th>\n",
       "    </tr>\n",
       "    <tr>\n",
       "      <th>Date</th>\n",
       "      <th></th>\n",
       "      <th></th>\n",
       "      <th></th>\n",
       "      <th></th>\n",
       "      <th></th>\n",
       "    </tr>\n",
       "  </thead>\n",
       "  <tbody>\n",
       "    <tr>\n",
       "      <th>2007-04-02</th>\n",
       "      <td>14036.0</td>\n",
       "      <td>NaN</td>\n",
       "      <td>97.000</td>\n",
       "      <td>2188.0</td>\n",
       "      <td>97.000</td>\n",
       "    </tr>\n",
       "    <tr>\n",
       "      <th>2007-04-03</th>\n",
       "      <td>13355.0</td>\n",
       "      <td>NaN</td>\n",
       "      <td>97.150</td>\n",
       "      <td>1888.0</td>\n",
       "      <td>97.150</td>\n",
       "    </tr>\n",
       "    <tr>\n",
       "      <th>2007-04-04</th>\n",
       "      <td>13619.0</td>\n",
       "      <td>NaN</td>\n",
       "      <td>97.275</td>\n",
       "      <td>759.0</td>\n",
       "      <td>97.275</td>\n",
       "    </tr>\n",
       "    <tr>\n",
       "      <th>2007-04-05</th>\n",
       "      <td>13870.0</td>\n",
       "      <td>NaN</td>\n",
       "      <td>97.725</td>\n",
       "      <td>773.0</td>\n",
       "      <td>97.725</td>\n",
       "    </tr>\n",
       "    <tr>\n",
       "      <th>2007-04-09</th>\n",
       "      <td>14040.0</td>\n",
       "      <td>NaN</td>\n",
       "      <td>97.700</td>\n",
       "      <td>1018.0</td>\n",
       "      <td>97.700</td>\n",
       "    </tr>\n",
       "  </tbody>\n",
       "</table>\n",
       "</div>"
      ],
      "text/plain": [
       "            Prev. Day Open Interest  Previous Day Open Interest  Settle  \\\n",
       "Date                                                                      \n",
       "2007-04-02                  14036.0                         NaN  97.000   \n",
       "2007-04-03                  13355.0                         NaN  97.150   \n",
       "2007-04-04                  13619.0                         NaN  97.275   \n",
       "2007-04-05                  13870.0                         NaN  97.725   \n",
       "2007-04-09                  14040.0                         NaN  97.700   \n",
       "\n",
       "            Volume       A  \n",
       "Date                        \n",
       "2007-04-02  2188.0  97.000  \n",
       "2007-04-03  1888.0  97.150  \n",
       "2007-04-04   759.0  97.275  \n",
       "2007-04-05   773.0  97.725  \n",
       "2007-04-09  1018.0  97.700  "
      ]
     },
     "execution_count": 2231,
     "metadata": {},
     "output_type": "execute_result"
    }
   ],
   "source": [
    "cattle.head()"
   ]
  },
  {
   "cell_type": "code",
   "execution_count": 2232,
   "metadata": {
    "collapsed": false
   },
   "outputs": [],
   "source": [
    "#shift column one day so today's prediction is relying on yesterday's metrics\n",
    "cattle['A'] = cattle['A'].shift(1)"
   ]
  },
  {
   "cell_type": "code",
   "execution_count": 2233,
   "metadata": {
    "collapsed": true
   },
   "outputs": [],
   "source": [
    "#shift column one day so today's prediction is relying on yesterday's metrics\n",
    "cattle['Volume'] = cattle['Volume'].shift(1)"
   ]
  },
  {
   "cell_type": "code",
   "execution_count": 2234,
   "metadata": {
    "collapsed": false
   },
   "outputs": [
    {
     "data": {
      "text/html": [
       "<div>\n",
       "<style scoped>\n",
       "    .dataframe tbody tr th:only-of-type {\n",
       "        vertical-align: middle;\n",
       "    }\n",
       "\n",
       "    .dataframe tbody tr th {\n",
       "        vertical-align: top;\n",
       "    }\n",
       "\n",
       "    .dataframe thead th {\n",
       "        text-align: right;\n",
       "    }\n",
       "</style>\n",
       "<table border=\"1\" class=\"dataframe\">\n",
       "  <thead>\n",
       "    <tr style=\"text-align: right;\">\n",
       "      <th></th>\n",
       "      <th>Prev. Day Open Interest</th>\n",
       "      <th>Previous Day Open Interest</th>\n",
       "      <th>Settle</th>\n",
       "      <th>Volume</th>\n",
       "      <th>A</th>\n",
       "    </tr>\n",
       "    <tr>\n",
       "      <th>Date</th>\n",
       "      <th></th>\n",
       "      <th></th>\n",
       "      <th></th>\n",
       "      <th></th>\n",
       "      <th></th>\n",
       "    </tr>\n",
       "  </thead>\n",
       "  <tbody>\n",
       "    <tr>\n",
       "      <th>2007-04-02</th>\n",
       "      <td>14036.0</td>\n",
       "      <td>NaN</td>\n",
       "      <td>97.000</td>\n",
       "      <td>NaN</td>\n",
       "      <td>NaN</td>\n",
       "    </tr>\n",
       "    <tr>\n",
       "      <th>2007-04-03</th>\n",
       "      <td>13355.0</td>\n",
       "      <td>NaN</td>\n",
       "      <td>97.150</td>\n",
       "      <td>2188.0</td>\n",
       "      <td>97.000</td>\n",
       "    </tr>\n",
       "    <tr>\n",
       "      <th>2007-04-04</th>\n",
       "      <td>13619.0</td>\n",
       "      <td>NaN</td>\n",
       "      <td>97.275</td>\n",
       "      <td>1888.0</td>\n",
       "      <td>97.150</td>\n",
       "    </tr>\n",
       "    <tr>\n",
       "      <th>2007-04-05</th>\n",
       "      <td>13870.0</td>\n",
       "      <td>NaN</td>\n",
       "      <td>97.725</td>\n",
       "      <td>759.0</td>\n",
       "      <td>97.275</td>\n",
       "    </tr>\n",
       "    <tr>\n",
       "      <th>2007-04-09</th>\n",
       "      <td>14040.0</td>\n",
       "      <td>NaN</td>\n",
       "      <td>97.700</td>\n",
       "      <td>773.0</td>\n",
       "      <td>97.725</td>\n",
       "    </tr>\n",
       "  </tbody>\n",
       "</table>\n",
       "</div>"
      ],
      "text/plain": [
       "            Prev. Day Open Interest  Previous Day Open Interest  Settle  \\\n",
       "Date                                                                      \n",
       "2007-04-02                  14036.0                         NaN  97.000   \n",
       "2007-04-03                  13355.0                         NaN  97.150   \n",
       "2007-04-04                  13619.0                         NaN  97.275   \n",
       "2007-04-05                  13870.0                         NaN  97.725   \n",
       "2007-04-09                  14040.0                         NaN  97.700   \n",
       "\n",
       "            Volume       A  \n",
       "Date                        \n",
       "2007-04-02     NaN     NaN  \n",
       "2007-04-03  2188.0  97.000  \n",
       "2007-04-04  1888.0  97.150  \n",
       "2007-04-05   759.0  97.275  \n",
       "2007-04-09   773.0  97.725  "
      ]
     },
     "execution_count": 2234,
     "metadata": {},
     "output_type": "execute_result"
    }
   ],
   "source": [
    "cattle.head()"
   ]
  },
  {
   "cell_type": "code",
   "execution_count": 2235,
   "metadata": {
    "collapsed": true
   },
   "outputs": [],
   "source": [
    "list_a = cattle['Settle']\n",
    "list_b = cattle['A']"
   ]
  },
  {
   "cell_type": "code",
   "execution_count": 2236,
   "metadata": {
    "collapsed": false
   },
   "outputs": [],
   "source": [
    "#create a for loop that iterates through 'Settle' and 'Previous Day Setttle' and determines if current\n",
    "#day settle is higher than previous day settle.  Higher settle labeled as '1', lower settle '0'. \n",
    "l = []\n",
    "for a, b in zip(list_a, list_b):\n",
    "    if a > b:\n",
    "        l.append(1)\n",
    "    else:\n",
    "        l.append(0)"
   ]
  },
  {
   "cell_type": "code",
   "execution_count": 2237,
   "metadata": {
    "collapsed": true
   },
   "outputs": [],
   "source": [
    "cattle['y'] = l"
   ]
  },
  {
   "cell_type": "code",
   "execution_count": 2238,
   "metadata": {
    "collapsed": false
   },
   "outputs": [
    {
     "data": {
      "text/html": [
       "<div>\n",
       "<style scoped>\n",
       "    .dataframe tbody tr th:only-of-type {\n",
       "        vertical-align: middle;\n",
       "    }\n",
       "\n",
       "    .dataframe tbody tr th {\n",
       "        vertical-align: top;\n",
       "    }\n",
       "\n",
       "    .dataframe thead th {\n",
       "        text-align: right;\n",
       "    }\n",
       "</style>\n",
       "<table border=\"1\" class=\"dataframe\">\n",
       "  <thead>\n",
       "    <tr style=\"text-align: right;\">\n",
       "      <th></th>\n",
       "      <th>Prev. Day Open Interest</th>\n",
       "      <th>Previous Day Open Interest</th>\n",
       "      <th>Settle</th>\n",
       "      <th>Volume</th>\n",
       "      <th>A</th>\n",
       "      <th>y</th>\n",
       "    </tr>\n",
       "    <tr>\n",
       "      <th>Date</th>\n",
       "      <th></th>\n",
       "      <th></th>\n",
       "      <th></th>\n",
       "      <th></th>\n",
       "      <th></th>\n",
       "      <th></th>\n",
       "    </tr>\n",
       "  </thead>\n",
       "  <tbody>\n",
       "    <tr>\n",
       "      <th>2007-04-02</th>\n",
       "      <td>14036.0</td>\n",
       "      <td>NaN</td>\n",
       "      <td>97.000</td>\n",
       "      <td>NaN</td>\n",
       "      <td>NaN</td>\n",
       "      <td>0</td>\n",
       "    </tr>\n",
       "    <tr>\n",
       "      <th>2007-04-03</th>\n",
       "      <td>13355.0</td>\n",
       "      <td>NaN</td>\n",
       "      <td>97.150</td>\n",
       "      <td>2188.0</td>\n",
       "      <td>97.000</td>\n",
       "      <td>1</td>\n",
       "    </tr>\n",
       "    <tr>\n",
       "      <th>2007-04-04</th>\n",
       "      <td>13619.0</td>\n",
       "      <td>NaN</td>\n",
       "      <td>97.275</td>\n",
       "      <td>1888.0</td>\n",
       "      <td>97.150</td>\n",
       "      <td>1</td>\n",
       "    </tr>\n",
       "    <tr>\n",
       "      <th>2007-04-05</th>\n",
       "      <td>13870.0</td>\n",
       "      <td>NaN</td>\n",
       "      <td>97.725</td>\n",
       "      <td>759.0</td>\n",
       "      <td>97.275</td>\n",
       "      <td>1</td>\n",
       "    </tr>\n",
       "    <tr>\n",
       "      <th>2007-04-09</th>\n",
       "      <td>14040.0</td>\n",
       "      <td>NaN</td>\n",
       "      <td>97.700</td>\n",
       "      <td>773.0</td>\n",
       "      <td>97.725</td>\n",
       "      <td>0</td>\n",
       "    </tr>\n",
       "  </tbody>\n",
       "</table>\n",
       "</div>"
      ],
      "text/plain": [
       "            Prev. Day Open Interest  Previous Day Open Interest  Settle  \\\n",
       "Date                                                                      \n",
       "2007-04-02                  14036.0                         NaN  97.000   \n",
       "2007-04-03                  13355.0                         NaN  97.150   \n",
       "2007-04-04                  13619.0                         NaN  97.275   \n",
       "2007-04-05                  13870.0                         NaN  97.725   \n",
       "2007-04-09                  14040.0                         NaN  97.700   \n",
       "\n",
       "            Volume       A  y  \n",
       "Date                           \n",
       "2007-04-02     NaN     NaN  0  \n",
       "2007-04-03  2188.0  97.000  1  \n",
       "2007-04-04  1888.0  97.150  1  \n",
       "2007-04-05   759.0  97.275  1  \n",
       "2007-04-09   773.0  97.725  0  "
      ]
     },
     "execution_count": 2238,
     "metadata": {},
     "output_type": "execute_result"
    }
   ],
   "source": [
    "cattle.head()"
   ]
  },
  {
   "cell_type": "code",
   "execution_count": 2239,
   "metadata": {
    "collapsed": false
   },
   "outputs": [
    {
     "data": {
      "text/plain": [
       "1    1268\n",
       "0    1238\n",
       "dtype: int64"
      ]
     },
     "execution_count": 2239,
     "metadata": {},
     "output_type": "execute_result"
    }
   ],
   "source": [
    "#since our binary target class has realtively similar counts there is no need to balance it \n",
    "pd.value_counts(cattle['y'].values)"
   ]
  },
  {
   "cell_type": "code",
   "execution_count": 2181,
   "metadata": {
    "collapsed": false
   },
   "outputs": [],
   "source": [
    "#some columns hold the same information but are labeled differently.  Combine these \n",
    "cattle['Prev. Day Open Interest'].fillna(cattle['Previous Day Open Interest'], inplace=True)\n",
    "del cattle['Previous Day Open Interest']"
   ]
  },
  {
   "cell_type": "code",
   "execution_count": 2182,
   "metadata": {
    "collapsed": false
   },
   "outputs": [
    {
     "data": {
      "text/plain": [
       "Prev. Day Open Interest    757\n",
       "Settle                       0\n",
       "Volume                       1\n",
       "A                            1\n",
       "y                            0\n",
       "dtype: int64"
      ]
     },
     "execution_count": 2182,
     "metadata": {},
     "output_type": "execute_result"
    }
   ],
   "source": [
    "#significant null values in Open Interest feature\n",
    "cattle.isnull().sum()"
   ]
  },
  {
   "cell_type": "code",
   "execution_count": 2183,
   "metadata": {
    "collapsed": true
   },
   "outputs": [],
   "source": [
    "#call data from Quandl to create continuous time series of spot hog prices\n",
    "HZ07 = Quandl.get(\"CME/LNZ2007\", trim_start=\"2007-04-01\", trim_end=\"2007-09-30\",\n",
    "                   authtoken=\"V59QDSuBq4zt1ofAQxRv\")\n",
    "HM08 = Quandl.get(\"CME/LNM2008\", trim_start=\"2007-10-01\", trim_end=\"2008-03-31\",\n",
    "                   authtoken=\"V59QDSuBq4zt1ofAQxRv\")\n",
    "HZ08 = Quandl.get(\"CME/LNZ2008\", trim_start=\"2008-04-01\", trim_end=\"2008-09-30\",\n",
    "                   authtoken=\"V59QDSuBq4zt1ofAQxRv\")\n",
    "HM09 = Quandl.get(\"CME/LNM2009\", trim_start=\"2008-10-01\", trim_end=\"2009-03-31\",\n",
    "                   authtoken=\"V59QDSuBq4zt1ofAQxRv\")\n",
    "HZ09 = Quandl.get(\"CME/LNZ2009\", trim_start=\"2009-04-01\", trim_end=\"2009-09-30\",\n",
    "                   authtoken=\"V59QDSuBq4zt1ofAQxRv\")\n",
    "HM10 = Quandl.get(\"CME/LNM2010\", trim_start=\"2009-10-01\", trim_end=\"2010-03-31\",\n",
    "                   authtoken=\"V59QDSuBq4zt1ofAQxRv\")\n",
    "HZ10 = Quandl.get(\"CME/LNZ2010\", trim_start=\"2010-04-01\", trim_end=\"2010-09-30\",\n",
    "                   authtoken=\"V59QDSuBq4zt1ofAQxRv\")\n",
    "HM11 = Quandl.get(\"CME/LNM2011\", trim_start=\"2010-10-01\", trim_end=\"2011-03-31\",\n",
    "                   authtoken=\"V59QDSuBq4zt1ofAQxRv\")\n",
    "HZ11 = Quandl.get(\"CME/LNZ2011\", trim_start=\"2011-04-01\", trim_end=\"2011-09-30\",\n",
    "                   authtoken=\"V59QDSuBq4zt1ofAQxRv\")\n",
    "HM12 = Quandl.get(\"CME/LNM2012\", trim_start=\"2011-10-01\", trim_end=\"2012-03-31\",\n",
    "                   authtoken=\"V59QDSuBq4zt1ofAQxRv\")\n",
    "HZ12 = Quandl.get(\"CME/LNZ2012\", trim_start=\"2012-04-01\", trim_end=\"2012-09-30\",\n",
    "                   authtoken=\"V59QDSuBq4zt1ofAQxRv\")\n",
    "HM13 = Quandl.get(\"CME/LNM2013\", trim_start=\"2012-10-01\", trim_end=\"2013-03-31\",\n",
    "                   authtoken=\"V59QDSuBq4zt1ofAQxRv\")\n",
    "HZ13 = Quandl.get(\"CME/LNZ2013\", trim_start=\"2013-04-01\", trim_end=\"2013-09-30\",\n",
    "                   authtoken=\"V59QDSuBq4zt1ofAQxRv\")\n",
    "HM14 = Quandl.get(\"CME/LNM2014\", trim_start=\"2013-10-01\", trim_end=\"2014-03-31\",\n",
    "                   authtoken=\"V59QDSuBq4zt1ofAQxRv\")\n",
    "HZ14 = Quandl.get(\"CME/LNZ2014\", trim_start=\"2014-04-01\", trim_end=\"2014-09-30\",\n",
    "                   authtoken=\"V59QDSuBq4zt1ofAQxRv\")\n",
    "HM15 = Quandl.get(\"CME/LNM2015\", trim_start=\"2014-10-01\", trim_end=\"2015-03-31\",\n",
    "                   authtoken=\"V59QDSuBq4zt1ofAQxRv\")\n",
    "HZ15 = Quandl.get(\"CME/LNZ2015\", trim_start=\"2015-04-01\", trim_end=\"2015-09-30\",\n",
    "                   authtoken=\"V59QDSuBq4zt1ofAQxRv\")\n",
    "HM16 = Quandl.get(\"CME/LNM2016\", trim_start=\"2015-10-01\", trim_end=\"2016-03-31\",\n",
    "                   authtoken=\"V59QDSuBq4zt1ofAQxRv\")\n",
    "HZ16 = Quandl.get(\"CME/LNZ2016\", trim_start=\"2016-04-01\", trim_end=\"2016-09-30\",\n",
    "                   authtoken=\"V59QDSuBq4zt1ofAQxRv\")\n",
    "HM17 = Quandl.get(\"CME/LNM2017\", trim_start=\"2016-10-01\", trim_end=\"2017-03-31\",\n",
    "                   authtoken=\"V59QDSuBq4zt1ofAQxRv\")"
   ]
  },
  {
   "cell_type": "code",
   "execution_count": 2184,
   "metadata": {
    "collapsed": true
   },
   "outputs": [],
   "source": [
    "frames = [HZ07, HM08, HZ08, HM09, HZ09, HM10, HZ10, HM11, HZ11, HM12, HZ12, HM13, HZ13, HM14, HZ14,\n",
    "          HM15, HZ15, HM16, HZ16, HM17]\n",
    "hogs = pd.concat(frames)"
   ]
  },
  {
   "cell_type": "code",
   "execution_count": 2185,
   "metadata": {
    "collapsed": false
   },
   "outputs": [
    {
     "data": {
      "text/html": [
       "<div>\n",
       "<style scoped>\n",
       "    .dataframe tbody tr th:only-of-type {\n",
       "        vertical-align: middle;\n",
       "    }\n",
       "\n",
       "    .dataframe tbody tr th {\n",
       "        vertical-align: top;\n",
       "    }\n",
       "\n",
       "    .dataframe thead th {\n",
       "        text-align: right;\n",
       "    }\n",
       "</style>\n",
       "<table border=\"1\" class=\"dataframe\">\n",
       "  <thead>\n",
       "    <tr style=\"text-align: right;\">\n",
       "      <th></th>\n",
       "      <th>Change</th>\n",
       "      <th>High</th>\n",
       "      <th>Last</th>\n",
       "      <th>Low</th>\n",
       "      <th>Open</th>\n",
       "      <th>Open Interest</th>\n",
       "      <th>Prev. Day Open Interest</th>\n",
       "      <th>Previous Day Open Interest</th>\n",
       "      <th>Settle</th>\n",
       "      <th>Volume</th>\n",
       "    </tr>\n",
       "    <tr>\n",
       "      <th>Date</th>\n",
       "      <th></th>\n",
       "      <th></th>\n",
       "      <th></th>\n",
       "      <th></th>\n",
       "      <th></th>\n",
       "      <th></th>\n",
       "      <th></th>\n",
       "      <th></th>\n",
       "      <th></th>\n",
       "      <th></th>\n",
       "    </tr>\n",
       "  </thead>\n",
       "  <tbody>\n",
       "    <tr>\n",
       "      <th>2007-04-02</th>\n",
       "      <td>NaN</td>\n",
       "      <td>65.55</td>\n",
       "      <td>NaN</td>\n",
       "      <td>64.500</td>\n",
       "      <td>64.500</td>\n",
       "      <td>NaN</td>\n",
       "      <td>11777.0</td>\n",
       "      <td>NaN</td>\n",
       "      <td>65.000</td>\n",
       "      <td>409.0</td>\n",
       "    </tr>\n",
       "    <tr>\n",
       "      <th>2007-04-03</th>\n",
       "      <td>NaN</td>\n",
       "      <td>66.25</td>\n",
       "      <td>NaN</td>\n",
       "      <td>65.225</td>\n",
       "      <td>65.350</td>\n",
       "      <td>NaN</td>\n",
       "      <td>11763.0</td>\n",
       "      <td>NaN</td>\n",
       "      <td>65.650</td>\n",
       "      <td>650.0</td>\n",
       "    </tr>\n",
       "    <tr>\n",
       "      <th>2007-04-04</th>\n",
       "      <td>NaN</td>\n",
       "      <td>66.25</td>\n",
       "      <td>NaN</td>\n",
       "      <td>65.500</td>\n",
       "      <td>65.500</td>\n",
       "      <td>NaN</td>\n",
       "      <td>11720.0</td>\n",
       "      <td>NaN</td>\n",
       "      <td>66.000</td>\n",
       "      <td>522.0</td>\n",
       "    </tr>\n",
       "    <tr>\n",
       "      <th>2007-04-05</th>\n",
       "      <td>NaN</td>\n",
       "      <td>66.55</td>\n",
       "      <td>NaN</td>\n",
       "      <td>66.000</td>\n",
       "      <td>66.000</td>\n",
       "      <td>NaN</td>\n",
       "      <td>11536.0</td>\n",
       "      <td>NaN</td>\n",
       "      <td>66.400</td>\n",
       "      <td>389.0</td>\n",
       "    </tr>\n",
       "    <tr>\n",
       "      <th>2007-04-09</th>\n",
       "      <td>NaN</td>\n",
       "      <td>67.40</td>\n",
       "      <td>NaN</td>\n",
       "      <td>66.850</td>\n",
       "      <td>66.925</td>\n",
       "      <td>NaN</td>\n",
       "      <td>11471.0</td>\n",
       "      <td>NaN</td>\n",
       "      <td>67.025</td>\n",
       "      <td>336.0</td>\n",
       "    </tr>\n",
       "  </tbody>\n",
       "</table>\n",
       "</div>"
      ],
      "text/plain": [
       "            Change   High  Last     Low    Open  Open Interest  \\\n",
       "Date                                                             \n",
       "2007-04-02     NaN  65.55   NaN  64.500  64.500            NaN   \n",
       "2007-04-03     NaN  66.25   NaN  65.225  65.350            NaN   \n",
       "2007-04-04     NaN  66.25   NaN  65.500  65.500            NaN   \n",
       "2007-04-05     NaN  66.55   NaN  66.000  66.000            NaN   \n",
       "2007-04-09     NaN  67.40   NaN  66.850  66.925            NaN   \n",
       "\n",
       "            Prev. Day Open Interest  Previous Day Open Interest  Settle  \\\n",
       "Date                                                                      \n",
       "2007-04-02                  11777.0                         NaN  65.000   \n",
       "2007-04-03                  11763.0                         NaN  65.650   \n",
       "2007-04-04                  11720.0                         NaN  66.000   \n",
       "2007-04-05                  11536.0                         NaN  66.400   \n",
       "2007-04-09                  11471.0                         NaN  67.025   \n",
       "\n",
       "            Volume  \n",
       "Date                \n",
       "2007-04-02   409.0  \n",
       "2007-04-03   650.0  \n",
       "2007-04-04   522.0  \n",
       "2007-04-05   389.0  \n",
       "2007-04-09   336.0  "
      ]
     },
     "execution_count": 2185,
     "metadata": {},
     "output_type": "execute_result"
    }
   ],
   "source": [
    "hogs.head()"
   ]
  },
  {
   "cell_type": "code",
   "execution_count": 2186,
   "metadata": {
    "collapsed": true
   },
   "outputs": [],
   "source": [
    "#take 'Settle' feature from Hog dataframe and add it to Cattle dataframe\n",
    "cattle['Hogs'] = hogs['Settle']"
   ]
  },
  {
   "cell_type": "code",
   "execution_count": 2187,
   "metadata": {
    "collapsed": true
   },
   "outputs": [],
   "source": [
    "#shift column one day so today's prediction is relying on yesterday's metrics\n",
    "cattle['Hogs'] = cattle['Hogs'].shift(1)"
   ]
  },
  {
   "cell_type": "code",
   "execution_count": 2188,
   "metadata": {
    "collapsed": false
   },
   "outputs": [
    {
     "data": {
      "text/html": [
       "<div>\n",
       "<style scoped>\n",
       "    .dataframe tbody tr th:only-of-type {\n",
       "        vertical-align: middle;\n",
       "    }\n",
       "\n",
       "    .dataframe tbody tr th {\n",
       "        vertical-align: top;\n",
       "    }\n",
       "\n",
       "    .dataframe thead th {\n",
       "        text-align: right;\n",
       "    }\n",
       "</style>\n",
       "<table border=\"1\" class=\"dataframe\">\n",
       "  <thead>\n",
       "    <tr style=\"text-align: right;\">\n",
       "      <th></th>\n",
       "      <th>Prev. Day Open Interest</th>\n",
       "      <th>Settle</th>\n",
       "      <th>Volume</th>\n",
       "      <th>A</th>\n",
       "      <th>y</th>\n",
       "      <th>Hogs</th>\n",
       "    </tr>\n",
       "    <tr>\n",
       "      <th>Date</th>\n",
       "      <th></th>\n",
       "      <th></th>\n",
       "      <th></th>\n",
       "      <th></th>\n",
       "      <th></th>\n",
       "      <th></th>\n",
       "    </tr>\n",
       "  </thead>\n",
       "  <tbody>\n",
       "    <tr>\n",
       "      <th>2007-04-02</th>\n",
       "      <td>14036.0</td>\n",
       "      <td>97.000</td>\n",
       "      <td>NaN</td>\n",
       "      <td>NaN</td>\n",
       "      <td>0</td>\n",
       "      <td>NaN</td>\n",
       "    </tr>\n",
       "    <tr>\n",
       "      <th>2007-04-03</th>\n",
       "      <td>13355.0</td>\n",
       "      <td>97.150</td>\n",
       "      <td>2188.0</td>\n",
       "      <td>97.000</td>\n",
       "      <td>1</td>\n",
       "      <td>65.00</td>\n",
       "    </tr>\n",
       "    <tr>\n",
       "      <th>2007-04-04</th>\n",
       "      <td>13619.0</td>\n",
       "      <td>97.275</td>\n",
       "      <td>1888.0</td>\n",
       "      <td>97.150</td>\n",
       "      <td>1</td>\n",
       "      <td>65.65</td>\n",
       "    </tr>\n",
       "    <tr>\n",
       "      <th>2007-04-05</th>\n",
       "      <td>13870.0</td>\n",
       "      <td>97.725</td>\n",
       "      <td>759.0</td>\n",
       "      <td>97.275</td>\n",
       "      <td>1</td>\n",
       "      <td>66.00</td>\n",
       "    </tr>\n",
       "    <tr>\n",
       "      <th>2007-04-09</th>\n",
       "      <td>14040.0</td>\n",
       "      <td>97.700</td>\n",
       "      <td>773.0</td>\n",
       "      <td>97.725</td>\n",
       "      <td>0</td>\n",
       "      <td>66.40</td>\n",
       "    </tr>\n",
       "  </tbody>\n",
       "</table>\n",
       "</div>"
      ],
      "text/plain": [
       "            Prev. Day Open Interest  Settle  Volume       A  y   Hogs\n",
       "Date                                                                 \n",
       "2007-04-02                  14036.0  97.000     NaN     NaN  0    NaN\n",
       "2007-04-03                  13355.0  97.150  2188.0  97.000  1  65.00\n",
       "2007-04-04                  13619.0  97.275  1888.0  97.150  1  65.65\n",
       "2007-04-05                  13870.0  97.725   759.0  97.275  1  66.00\n",
       "2007-04-09                  14040.0  97.700   773.0  97.725  0  66.40"
      ]
     },
     "execution_count": 2188,
     "metadata": {},
     "output_type": "execute_result"
    }
   ],
   "source": [
    "cattle.head()"
   ]
  },
  {
   "cell_type": "code",
   "execution_count": 2189,
   "metadata": {
    "collapsed": true
   },
   "outputs": [],
   "source": [
    "#call data from Quandl to create continuous time series of spot corn prices\n",
    "CZ07 = Quandl.get(\"CME/CZ2007\", trim_start=\"2007-04-01\", trim_end=\"2007-09-30\",\n",
    "                   authtoken=\"V59QDSuBq4zt1ofAQxRv\")\n",
    "CM08 = Quandl.get(\"CME/CK2008\", trim_start=\"2007-10-01\", trim_end=\"2008-03-31\",\n",
    "                   authtoken=\"V59QDSuBq4zt1ofAQxRv\")\n",
    "CZ08 = Quandl.get(\"CME/CZ2008\", trim_start=\"2008-04-01\", trim_end=\"2008-09-30\",\n",
    "                   authtoken=\"V59QDSuBq4zt1ofAQxRv\")\n",
    "CM09 = Quandl.get(\"CME/CK2009\", trim_start=\"2008-10-01\", trim_end=\"2009-03-31\",\n",
    "                   authtoken=\"V59QDSuBq4zt1ofAQxRv\")\n",
    "CZ09 = Quandl.get(\"CME/CZ2009\", trim_start=\"2009-04-01\", trim_end=\"2009-09-30\",\n",
    "                   authtoken=\"V59QDSuBq4zt1ofAQxRv\")\n",
    "CM10 = Quandl.get(\"CME/CK2010\", trim_start=\"2009-10-01\", trim_end=\"2010-03-31\",\n",
    "                   authtoken=\"V59QDSuBq4zt1ofAQxRv\")\n",
    "CZ10 = Quandl.get(\"CME/CZ2010\", trim_start=\"2010-04-01\", trim_end=\"2010-09-30\",\n",
    "                   authtoken=\"V59QDSuBq4zt1ofAQxRv\")\n",
    "CM11 = Quandl.get(\"CME/CK2011\", trim_start=\"2010-10-01\", trim_end=\"2011-03-31\",\n",
    "                   authtoken=\"V59QDSuBq4zt1ofAQxRv\")\n",
    "CZ11 = Quandl.get(\"CME/CZ2011\", trim_start=\"2011-04-01\", trim_end=\"2011-09-30\",\n",
    "                   authtoken=\"V59QDSuBq4zt1ofAQxRv\")\n",
    "CM12 = Quandl.get(\"CME/CK2012\", trim_start=\"2011-10-01\", trim_end=\"2012-03-31\",\n",
    "                   authtoken=\"V59QDSuBq4zt1ofAQxRv\")\n",
    "CZ12 = Quandl.get(\"CME/CZ2012\", trim_start=\"2012-04-01\", trim_end=\"2012-09-30\",\n",
    "                   authtoken=\"V59QDSuBq4zt1ofAQxRv\")\n",
    "CM13 = Quandl.get(\"CME/CK2013\", trim_start=\"2012-10-01\", trim_end=\"2013-03-31\",\n",
    "                   authtoken=\"V59QDSuBq4zt1ofAQxRv\")\n",
    "CZ13 = Quandl.get(\"CME/CZ2013\", trim_start=\"2013-04-01\", trim_end=\"2013-09-30\",\n",
    "                   authtoken=\"V59QDSuBq4zt1ofAQxRv\")\n",
    "CM14 = Quandl.get(\"CME/CK2014\", trim_start=\"2013-10-01\", trim_end=\"2014-03-31\",\n",
    "                   authtoken=\"V59QDSuBq4zt1ofAQxRv\")\n",
    "CZ14 = Quandl.get(\"CME/CZ2014\", trim_start=\"2014-04-01\", trim_end=\"2014-09-30\",\n",
    "                   authtoken=\"V59QDSuBq4zt1ofAQxRv\")\n",
    "CM15 = Quandl.get(\"CME/CK2015\", trim_start=\"2014-10-01\", trim_end=\"2015-03-31\",\n",
    "                   authtoken=\"V59QDSuBq4zt1ofAQxRv\")\n",
    "CZ15 = Quandl.get(\"CME/CZ2015\", trim_start=\"2015-04-01\", trim_end=\"2015-09-30\",\n",
    "                   authtoken=\"V59QDSuBq4zt1ofAQxRv\")\n",
    "CM16 = Quandl.get(\"CME/CK2016\", trim_start=\"2015-10-01\", trim_end=\"2016-03-31\",\n",
    "                   authtoken=\"V59QDSuBq4zt1ofAQxRv\")\n",
    "CZ16 = Quandl.get(\"CME/CZ2016\", trim_start=\"2016-04-01\", trim_end=\"2016-09-30\",\n",
    "                   authtoken=\"V59QDSuBq4zt1ofAQxRv\")\n",
    "CM17 = Quandl.get(\"CME/CK2017\", trim_start=\"2016-10-01\", trim_end=\"2017-03-31\",\n",
    "                   authtoken=\"V59QDSuBq4zt1ofAQxRv\")"
   ]
  },
  {
   "cell_type": "code",
   "execution_count": 2190,
   "metadata": {
    "collapsed": true
   },
   "outputs": [],
   "source": [
    "frames = [CZ07, CM08, CZ08, CM09, CZ09, CM10, CZ10, CM11, CZ11, CM12, CZ12, CM13, CZ13, CM14, CZ14, \n",
    "          CM15, CZ15, CM16, CZ16, CM17]\n",
    "corn = pd.concat(frames)"
   ]
  },
  {
   "cell_type": "code",
   "execution_count": 2191,
   "metadata": {
    "collapsed": true
   },
   "outputs": [],
   "source": [
    "#take 'Settle' feature from Corn dataframe and add it to Cattle dataframe\n",
    "cattle['Corn'] = corn['Settle']"
   ]
  },
  {
   "cell_type": "code",
   "execution_count": 2192,
   "metadata": {
    "collapsed": true
   },
   "outputs": [],
   "source": [
    "#shift column one day so today's prediction is relying on yesterday's metrics\n",
    "cattle['Corn'] = cattle['Corn'].shift(1)"
   ]
  },
  {
   "cell_type": "code",
   "execution_count": 2193,
   "metadata": {
    "collapsed": false
   },
   "outputs": [
    {
     "data": {
      "text/html": [
       "<div>\n",
       "<style scoped>\n",
       "    .dataframe tbody tr th:only-of-type {\n",
       "        vertical-align: middle;\n",
       "    }\n",
       "\n",
       "    .dataframe tbody tr th {\n",
       "        vertical-align: top;\n",
       "    }\n",
       "\n",
       "    .dataframe thead th {\n",
       "        text-align: right;\n",
       "    }\n",
       "</style>\n",
       "<table border=\"1\" class=\"dataframe\">\n",
       "  <thead>\n",
       "    <tr style=\"text-align: right;\">\n",
       "      <th></th>\n",
       "      <th>Prev. Day Open Interest</th>\n",
       "      <th>Settle</th>\n",
       "      <th>Volume</th>\n",
       "      <th>A</th>\n",
       "      <th>y</th>\n",
       "      <th>Hogs</th>\n",
       "      <th>Corn</th>\n",
       "    </tr>\n",
       "    <tr>\n",
       "      <th>Date</th>\n",
       "      <th></th>\n",
       "      <th></th>\n",
       "      <th></th>\n",
       "      <th></th>\n",
       "      <th></th>\n",
       "      <th></th>\n",
       "      <th></th>\n",
       "    </tr>\n",
       "  </thead>\n",
       "  <tbody>\n",
       "    <tr>\n",
       "      <th>2007-04-02</th>\n",
       "      <td>14036.0</td>\n",
       "      <td>97.000</td>\n",
       "      <td>NaN</td>\n",
       "      <td>NaN</td>\n",
       "      <td>0</td>\n",
       "      <td>NaN</td>\n",
       "      <td>NaN</td>\n",
       "    </tr>\n",
       "    <tr>\n",
       "      <th>2007-04-03</th>\n",
       "      <td>13355.0</td>\n",
       "      <td>97.150</td>\n",
       "      <td>2188.0</td>\n",
       "      <td>97.000</td>\n",
       "      <td>1</td>\n",
       "      <td>65.00</td>\n",
       "      <td>369.50</td>\n",
       "    </tr>\n",
       "    <tr>\n",
       "      <th>2007-04-04</th>\n",
       "      <td>13619.0</td>\n",
       "      <td>97.275</td>\n",
       "      <td>1888.0</td>\n",
       "      <td>97.150</td>\n",
       "      <td>1</td>\n",
       "      <td>65.65</td>\n",
       "      <td>367.50</td>\n",
       "    </tr>\n",
       "    <tr>\n",
       "      <th>2007-04-05</th>\n",
       "      <td>13870.0</td>\n",
       "      <td>97.725</td>\n",
       "      <td>759.0</td>\n",
       "      <td>97.275</td>\n",
       "      <td>1</td>\n",
       "      <td>66.00</td>\n",
       "      <td>380.50</td>\n",
       "    </tr>\n",
       "    <tr>\n",
       "      <th>2007-04-09</th>\n",
       "      <td>14040.0</td>\n",
       "      <td>97.700</td>\n",
       "      <td>773.0</td>\n",
       "      <td>97.725</td>\n",
       "      <td>0</td>\n",
       "      <td>66.40</td>\n",
       "      <td>386.75</td>\n",
       "    </tr>\n",
       "  </tbody>\n",
       "</table>\n",
       "</div>"
      ],
      "text/plain": [
       "            Prev. Day Open Interest  Settle  Volume       A  y   Hogs    Corn\n",
       "Date                                                                         \n",
       "2007-04-02                  14036.0  97.000     NaN     NaN  0    NaN     NaN\n",
       "2007-04-03                  13355.0  97.150  2188.0  97.000  1  65.00  369.50\n",
       "2007-04-04                  13619.0  97.275  1888.0  97.150  1  65.65  367.50\n",
       "2007-04-05                  13870.0  97.725   759.0  97.275  1  66.00  380.50\n",
       "2007-04-09                  14040.0  97.700   773.0  97.725  0  66.40  386.75"
      ]
     },
     "execution_count": 2193,
     "metadata": {},
     "output_type": "execute_result"
    }
   ],
   "source": [
    "cattle.head()"
   ]
  },
  {
   "cell_type": "code",
   "execution_count": 2194,
   "metadata": {
    "collapsed": false
   },
   "outputs": [
    {
     "data": {
      "text/plain": [
       "Prev. Day Open Interest    757\n",
       "Settle                       0\n",
       "Volume                       1\n",
       "A                            1\n",
       "y                            0\n",
       "Hogs                         2\n",
       "Corn                         1\n",
       "dtype: int64"
      ]
     },
     "execution_count": 2194,
     "metadata": {},
     "output_type": "execute_result"
    }
   ],
   "source": [
    "cattle.isnull().sum()"
   ]
  },
  {
   "cell_type": "code",
   "execution_count": 2195,
   "metadata": {
    "collapsed": true
   },
   "outputs": [],
   "source": [
    "#we will attempt to predict cattle prices for the last full year of the data.  We will use the previous\n",
    "#9 years as the training dataset\n",
    "cattle_train = cattle[:'2016-03-31']\n",
    "cattle_test = cattle['2016-04-01':]"
   ]
  },
  {
   "cell_type": "code",
   "execution_count": 2196,
   "metadata": {
    "collapsed": false
   },
   "outputs": [
    {
     "data": {
      "text/plain": [
       "(2253, 7)"
      ]
     },
     "execution_count": 2196,
     "metadata": {},
     "output_type": "execute_result"
    }
   ],
   "source": [
    "cattle_train.shape"
   ]
  },
  {
   "cell_type": "code",
   "execution_count": 2197,
   "metadata": {
    "collapsed": false
   },
   "outputs": [
    {
     "data": {
      "text/plain": [
       "(253, 7)"
      ]
     },
     "execution_count": 2197,
     "metadata": {},
     "output_type": "execute_result"
    }
   ],
   "source": [
    "cattle_test.shape"
   ]
  },
  {
   "cell_type": "code",
   "execution_count": 2198,
   "metadata": {
    "collapsed": false
   },
   "outputs": [],
   "source": [
    "#drop any rows of training data with null values\n",
    "cattle_train = cattle_train.dropna()"
   ]
  },
  {
   "cell_type": "code",
   "execution_count": 2199,
   "metadata": {
    "collapsed": true
   },
   "outputs": [],
   "source": [
    "#drop any rows of test data with null values\n",
    "cattle_test = cattle_test.dropna()"
   ]
  },
  {
   "cell_type": "code",
   "execution_count": 2200,
   "metadata": {
    "collapsed": false
   },
   "outputs": [
    {
     "data": {
      "text/plain": [
       "(1622, 7)"
      ]
     },
     "execution_count": 2200,
     "metadata": {},
     "output_type": "execute_result"
    }
   ],
   "source": [
    "cattle_train.shape"
   ]
  },
  {
   "cell_type": "code",
   "execution_count": 2201,
   "metadata": {
    "collapsed": false
   },
   "outputs": [
    {
     "data": {
      "text/plain": [
       "(125, 7)"
      ]
     },
     "execution_count": 2201,
     "metadata": {},
     "output_type": "execute_result"
    }
   ],
   "source": [
    "cattle_test.shape"
   ]
  },
  {
   "cell_type": "code",
   "execution_count": 2202,
   "metadata": {
    "collapsed": false
   },
   "outputs": [],
   "source": [
    "cattle_train = cattle_train.rename(index=str, columns = {'A' : 'Prev. Day Settle' })"
   ]
  },
  {
   "cell_type": "code",
   "execution_count": 2203,
   "metadata": {
    "collapsed": false
   },
   "outputs": [],
   "source": [
    "cattle_test = cattle_test.rename(index=str, columns = {'A' : 'Prev. Day Settle' })"
   ]
  },
  {
   "cell_type": "code",
   "execution_count": 2204,
   "metadata": {
    "collapsed": true
   },
   "outputs": [],
   "source": [
    "#reorder features in dataframe\n",
    "cattle_train_X = cattle_train[['Settle', 'Prev. Day Settle', 'Volume', 'Prev. Day Open Interest',\n",
    "                            'Hogs', 'Corn']]"
   ]
  },
  {
   "cell_type": "code",
   "execution_count": 2205,
   "metadata": {
    "collapsed": true
   },
   "outputs": [],
   "source": [
    "cattle_train_y = cattle_train['y']"
   ]
  },
  {
   "cell_type": "code",
   "execution_count": 2206,
   "metadata": {
    "collapsed": true
   },
   "outputs": [],
   "source": [
    "#reorder features in dataframe\n",
    "cattle_test_X = cattle_test[['Settle', 'Prev. Day Settle', 'Volume', 'Prev. Day Open Interest',\n",
    "                            'Hogs', 'Corn']]"
   ]
  },
  {
   "cell_type": "code",
   "execution_count": 2207,
   "metadata": {
    "collapsed": true
   },
   "outputs": [],
   "source": [
    "cattle_test_y = cattle_test['y']"
   ]
  },
  {
   "cell_type": "code",
   "execution_count": 2208,
   "metadata": {
    "collapsed": false
   },
   "outputs": [],
   "source": [
    "#apply standard scaler to X features to account for difference in Euclidian distance between \n",
    "#non-standardized X features.  y is categorical so no need to scale. \n",
    "from sklearn.preprocessing import StandardScaler\n",
    "sc_X = StandardScaler()\n",
    "cattle_train_X = sc_X.fit_transform(cattle_train_X)\n",
    "cattle_test_X = sc_X.transform(cattle_test_X)"
   ]
  },
  {
   "cell_type": "code",
   "execution_count": 2209,
   "metadata": {
    "collapsed": false
   },
   "outputs": [
    {
     "data": {
      "text/plain": [
       "GaussianNB(priors=None)"
      ]
     },
     "execution_count": 2209,
     "metadata": {},
     "output_type": "execute_result"
    }
   ],
   "source": [
    "#fitting naive Bayes classifier\n",
    "from sklearn.naive_bayes import GaussianNB\n",
    "NBclassifier = GaussianNB()\n",
    "NBclassifier.fit(cattle_train_X, cattle_train_y)"
   ]
  },
  {
   "cell_type": "code",
   "execution_count": 2210,
   "metadata": {
    "collapsed": false
   },
   "outputs": [
    {
     "data": {
      "text/plain": [
       "0.5271270036991369"
      ]
     },
     "execution_count": 2210,
     "metadata": {},
     "output_type": "execute_result"
    }
   ],
   "source": [
    "NBclassifier.score(cattle_train_X, cattle_train_y)"
   ]
  },
  {
   "cell_type": "code",
   "execution_count": 2211,
   "metadata": {
    "collapsed": false
   },
   "outputs": [
    {
     "data": {
      "text/plain": [
       "0.568"
      ]
     },
     "execution_count": 2211,
     "metadata": {},
     "output_type": "execute_result"
    }
   ],
   "source": [
    "NBclassifier.score(cattle_test_X, cattle_test_y)"
   ]
  },
  {
   "cell_type": "code",
   "execution_count": 2212,
   "metadata": {
    "collapsed": true
   },
   "outputs": [],
   "source": [
    "#define fucntion to run a baseline score for classifiers using default hyperparameter values\n",
    "def scores(models, X, y):\n",
    "    for model in models:\n",
    "        y_pred = model.predict(X)\n",
    "        acc = accuracy_score(y, y_pred)\n",
    "        print(\"Accuracy Score: {0:0.2f} %\".format(acc * 100))"
   ]
  },
  {
   "cell_type": "code",
   "execution_count": 2213,
   "metadata": {
    "collapsed": false
   },
   "outputs": [],
   "source": [
    "#classification models used with default hyperparameters\n",
    "models = [LogisticRegression(random_state=13),\n",
    "          KNeighborsClassifier(),\n",
    "          SVC(random_state = 13),\n",
    "          RandomForestClassifier(random_state = 13)]"
   ]
  },
  {
   "cell_type": "code",
   "execution_count": 2214,
   "metadata": {
    "collapsed": true
   },
   "outputs": [],
   "source": [
    "for model in models:\n",
    "    model.fit(cattle_train_X, cattle_train_y)"
   ]
  },
  {
   "cell_type": "code",
   "execution_count": 2215,
   "metadata": {
    "collapsed": false
   },
   "outputs": [
    {
     "name": "stdout",
     "output_type": "stream",
     "text": [
      "Accuracy Score: 92.91 %\n",
      "Accuracy Score: 70.16 %\n",
      "Accuracy Score: 58.45 %\n",
      "Accuracy Score: 97.78 %\n"
     ]
    }
   ],
   "source": [
    "scores(models, cattle_train_X, cattle_train_y)"
   ]
  },
  {
   "cell_type": "code",
   "execution_count": 2216,
   "metadata": {
    "collapsed": false
   },
   "outputs": [
    {
     "name": "stdout",
     "output_type": "stream",
     "text": [
      "Accuracy Score: 91.20 %\n",
      "Accuracy Score: 51.20 %\n",
      "Accuracy Score: 58.40 %\n",
      "Accuracy Score: 55.20 %\n"
     ]
    }
   ],
   "source": [
    "#logistic regression shows promise with good generalization using default parameters\n",
    "#KNN and RandomForest training models seem to overfit and not generalize well\n",
    "scores(models, cattle_test_X, cattle_test_y)"
   ]
  },
  {
   "cell_type": "code",
   "execution_count": 2217,
   "metadata": {
    "collapsed": false
   },
   "outputs": [],
   "source": [
    "#define hyperparameters to be used during GridSearch\n",
    "LR_grid_parameters = {'C': [0.1, 1, 10, 50], 'penalty': ['l1', 'l2'], 'random_state': [13]}\n",
    "KNN_grid_parameters = {'n_neighbors': [3, 5, 10, 20], 'weights': ['uniform', 'distance']}\n",
    "SVM_poly_grid_parameters = {'kernel': ['poly'], 'degree': [1, 2, 3, 4], 'gamma': [.5, .2, .05, .01, .001],\n",
    "                            'C': [0.1, 1, 10, 50], 'random_state': [13]}\n",
    "SVM_grid_parameters = {'kernel': ['linear', 'rbf', 'sigmoid'], 'gamma': [.5, .2, .05, .01, .001],\n",
    "                       'C': [0.1, 1, 10, 50], 'random_state': [13]}\n",
    "RF_grid_parameters = {'n_estimators': [10, 50, 100], 'criterion': ['gini', 'entropy'],\n",
    "               'max_depth': [None, 10, 25, 50], 'random_state': [13]}"
   ]
  },
  {
   "cell_type": "code",
   "execution_count": 2218,
   "metadata": {
    "collapsed": false
   },
   "outputs": [
    {
     "name": "stdout",
     "output_type": "stream",
     "text": [
      "Best score: 0.990\n",
      "Best parameters set:\n",
      "\tC: 50\n",
      "\tpenalty: 'l1'\n",
      "\trandom_state: 13\n"
     ]
    }
   ],
   "source": [
    "LR_grid = GridSearchCV(estimator = LogisticRegression(), param_grid = LR_grid_parameters, \n",
    "                        scoring = 'accuracy')\n",
    "LR_grid.fit(cattle_train_X, cattle_train_y)\n",
    "print(\"Best score: %0.3f\" % LR_grid.best_score_)\n",
    "print(\"Best parameters set:\")\n",
    "best_parameters=LR_grid.best_estimator_.get_params()\n",
    "for param_name in sorted(LR_grid_parameters.keys()):\n",
    "        print(\"\\t%s: %r\" % (param_name, best_parameters[param_name]))"
   ]
  },
  {
   "cell_type": "code",
   "execution_count": 2219,
   "metadata": {
    "collapsed": false
   },
   "outputs": [
    {
     "name": "stdout",
     "output_type": "stream",
     "text": [
      "Best score: 0.493\n",
      "Best parameters set:\n",
      "\tn_neighbors: 3\n",
      "\tweights: 'distance'\n"
     ]
    }
   ],
   "source": [
    "KNN_grid = GridSearchCV(estimator = KNeighborsClassifier(), param_grid = KNN_grid_parameters, \n",
    "                        scoring = 'accuracy')\n",
    "KNN_grid.fit(cattle_train_X, cattle_train_y)\n",
    "print(\"Best score: %0.3f\" % KNN_grid.best_score_)\n",
    "print(\"Best parameters set:\")\n",
    "best_parameters=KNN_grid.best_estimator_.get_params()\n",
    "for param_name in sorted(KNN_grid_parameters.keys()):\n",
    "        print(\"\\t%s: %r\" % (param_name, best_parameters[param_name]))"
   ]
  },
  {
   "cell_type": "code",
   "execution_count": 2220,
   "metadata": {
    "collapsed": false
   },
   "outputs": [
    {
     "name": "stdout",
     "output_type": "stream",
     "text": [
      "Best score: 0.974\n",
      "Best parameters set:\n",
      "\tC: 50\n",
      "\tdegree: 1\n",
      "\tgamma: 0.5\n",
      "\tkernel: 'poly'\n",
      "\trandom_state: 13\n"
     ]
    }
   ],
   "source": [
    "SVM_poly_grid = GridSearchCV(estimator = SVC(), param_grid = SVM_poly_grid_parameters, \n",
    "                             scoring = 'accuracy')\n",
    "SVM_poly_grid.fit(cattle_train_X, cattle_train_y)\n",
    "print(\"Best score: %0.3f\" % SVM_poly_grid.best_score_)\n",
    "print(\"Best parameters set:\")\n",
    "best_parameters=SVM_poly_grid.best_estimator_.get_params()\n",
    "for param_name in sorted(SVM_poly_grid_parameters.keys()):\n",
    "        print(\"\\t%s: %r\" % (param_name, best_parameters[param_name]))"
   ]
  },
  {
   "cell_type": "code",
   "execution_count": 2221,
   "metadata": {
    "collapsed": false
   },
   "outputs": [
    {
     "name": "stdout",
     "output_type": "stream",
     "text": [
      "Best score: 0.977\n",
      "Best parameters set:\n",
      "\tC: 50\n",
      "\tgamma: 0.5\n",
      "\tkernel: 'linear'\n",
      "\trandom_state: 13\n"
     ]
    }
   ],
   "source": [
    "SVM_grid = GridSearchCV(estimator = SVC(), param_grid = SVM_grid_parameters, \n",
    "                             scoring = 'accuracy')\n",
    "SVM_grid.fit(cattle_train_X, cattle_train_y)\n",
    "print(\"Best score: %0.3f\" % SVM_grid.best_score_)\n",
    "print(\"Best parameters set:\")\n",
    "best_parameters=SVM_grid.best_estimator_.get_params()\n",
    "for param_name in sorted(SVM_grid_parameters.keys()):\n",
    "        print(\"\\t%s: %r\" % (param_name, best_parameters[param_name]))"
   ]
  },
  {
   "cell_type": "code",
   "execution_count": 2222,
   "metadata": {
    "collapsed": false
   },
   "outputs": [
    {
     "name": "stdout",
     "output_type": "stream",
     "text": [
      "Best score: 0.529\n",
      "Best parameters set:\n",
      "\tcriterion: 'entropy'\n",
      "\tmax_depth: 25\n",
      "\tn_estimators: 100\n",
      "\trandom_state: 13\n"
     ]
    }
   ],
   "source": [
    "RF_grid = GridSearchCV(estimator = RandomForestClassifier(), param_grid = RF_grid_parameters, \n",
    "                             scoring = 'accuracy')\n",
    "RF_grid.fit(cattle_train_X, cattle_train_y)\n",
    "print(\"Best score: %0.3f\" % RF_grid.best_score_)\n",
    "print(\"Best parameters set:\")\n",
    "best_parameters=RF_grid.best_estimator_.get_params()\n",
    "for param_name in sorted(RF_grid_parameters.keys()):\n",
    "        print(\"\\t%s: %r\" % (param_name, best_parameters[param_name]))"
   ]
  }
 ],
 "metadata": {
  "kernelspec": {
   "display_name": "Python 3",
   "language": "python",
   "name": "python3"
  },
  "language_info": {
   "codemirror_mode": {
    "name": "ipython",
    "version": 3
   },
   "file_extension": ".py",
   "mimetype": "text/x-python",
   "name": "python",
   "nbconvert_exporter": "python",
   "pygments_lexer": "ipython3",
   "version": "3.5.0"
  }
 },
 "nbformat": 4,
 "nbformat_minor": 0
}
